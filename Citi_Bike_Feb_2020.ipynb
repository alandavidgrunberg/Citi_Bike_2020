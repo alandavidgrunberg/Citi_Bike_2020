{
 "cells": [
  {
   "cell_type": "markdown",
   "id": "d4fb562b",
   "metadata": {},
   "source": [
    "## Citi Bike February 2020 Trip Data"
   ]
  },
  {
   "cell_type": "markdown",
   "id": "9506000f",
   "metadata": {},
   "source": [
    "<b><i>Dataset exploration, cleaning & feature engineering"
   ]
  },
  {
   "cell_type": "markdown",
   "id": "f15d6024",
   "metadata": {},
   "source": [
    "Data source: https://www.nyc.gov/html/dot/html/bicyclists/bikestats.shtml#tripdata <br>\n",
    "Notebook by Alan Grunberg, https://github.com/alandavidgrunberg"
   ]
  },
  {
   "cell_type": "markdown",
   "id": "fcaa2050",
   "metadata": {},
   "source": [
    "<b>loading libraries"
   ]
  },
  {
   "cell_type": "code",
   "execution_count": 1,
   "id": "54e9b3a8",
   "metadata": {},
   "outputs": [],
   "source": [
    "import pandas as pd\n",
    "import matplotlib.pyplot as plt \n",
    "from geopy import distance"
   ]
  },
  {
   "cell_type": "markdown",
   "id": "424ef6b7",
   "metadata": {},
   "source": [
    "<b>loading original data from CSV into Pandas DataFrame"
   ]
  },
  {
   "cell_type": "code",
   "execution_count": 2,
   "id": "c2a2d461",
   "metadata": {},
   "outputs": [
    {
     "name": "stdout",
     "output_type": "stream",
     "text": [
      "<class 'pandas.core.frame.DataFrame'>\n",
      "RangeIndex: 1146830 entries, 0 to 1146829\n",
      "Data columns (total 15 columns):\n",
      " #   Column                   Non-Null Count    Dtype  \n",
      "---  ------                   --------------    -----  \n",
      " 0   tripduration             1146830 non-null  int64  \n",
      " 1   starttime                1146830 non-null  object \n",
      " 2   stoptime                 1146830 non-null  object \n",
      " 3   start station id         1146830 non-null  int64  \n",
      " 4   start station name       1146830 non-null  object \n",
      " 5   start station latitude   1146830 non-null  float64\n",
      " 6   start station longitude  1146830 non-null  float64\n",
      " 7   end station id           1146830 non-null  int64  \n",
      " 8   end station name         1146830 non-null  object \n",
      " 9   end station latitude     1146830 non-null  float64\n",
      " 10  end station longitude    1146830 non-null  float64\n",
      " 11  bikeid                   1146830 non-null  int64  \n",
      " 12  usertype                 1146830 non-null  object \n",
      " 13  birth year               1146830 non-null  int64  \n",
      " 14  gender                   1146830 non-null  int64  \n",
      "dtypes: float64(4), int64(6), object(5)\n",
      "memory usage: 131.2+ MB\n"
     ]
    }
   ],
   "source": [
    "df_orig = pd.read_csv('data/feb_2020_original.csv')\n",
    "df = df_orig.copy()\n",
    "df.info()"
   ]
  },
  {
   "cell_type": "code",
   "execution_count": 3,
   "id": "bbf5f2c0",
   "metadata": {
    "scrolled": true
   },
   "outputs": [
    {
     "data": {
      "text/html": [
       "<div>\n",
       "<style scoped>\n",
       "    .dataframe tbody tr th:only-of-type {\n",
       "        vertical-align: middle;\n",
       "    }\n",
       "\n",
       "    .dataframe tbody tr th {\n",
       "        vertical-align: top;\n",
       "    }\n",
       "\n",
       "    .dataframe thead th {\n",
       "        text-align: right;\n",
       "    }\n",
       "</style>\n",
       "<table border=\"1\" class=\"dataframe\">\n",
       "  <thead>\n",
       "    <tr style=\"text-align: right;\">\n",
       "      <th></th>\n",
       "      <th>tripduration</th>\n",
       "      <th>starttime</th>\n",
       "      <th>stoptime</th>\n",
       "      <th>start station id</th>\n",
       "      <th>start station name</th>\n",
       "      <th>start station latitude</th>\n",
       "      <th>start station longitude</th>\n",
       "      <th>end station id</th>\n",
       "      <th>end station name</th>\n",
       "      <th>end station latitude</th>\n",
       "      <th>end station longitude</th>\n",
       "      <th>bikeid</th>\n",
       "      <th>usertype</th>\n",
       "      <th>birth year</th>\n",
       "      <th>gender</th>\n",
       "    </tr>\n",
       "  </thead>\n",
       "  <tbody>\n",
       "    <tr>\n",
       "      <th>0</th>\n",
       "      <td>1404</td>\n",
       "      <td>2020-02-01 00:00:05.9460</td>\n",
       "      <td>2020-02-01 00:23:30.7240</td>\n",
       "      <td>316</td>\n",
       "      <td>Fulton St &amp; William St</td>\n",
       "      <td>40.709560</td>\n",
       "      <td>-74.006536</td>\n",
       "      <td>481</td>\n",
       "      <td>S 3 St &amp; Bedford Ave</td>\n",
       "      <td>40.712605</td>\n",
       "      <td>-73.962644</td>\n",
       "      <td>28874</td>\n",
       "      <td>Customer</td>\n",
       "      <td>1995</td>\n",
       "      <td>1</td>\n",
       "    </tr>\n",
       "    <tr>\n",
       "      <th>1</th>\n",
       "      <td>1301</td>\n",
       "      <td>2020-02-01 00:00:06.2230</td>\n",
       "      <td>2020-02-01 00:21:48.0580</td>\n",
       "      <td>237</td>\n",
       "      <td>E 11 St &amp; 2 Ave</td>\n",
       "      <td>40.730473</td>\n",
       "      <td>-73.986724</td>\n",
       "      <td>539</td>\n",
       "      <td>Metropolitan Ave &amp; Bedford Ave</td>\n",
       "      <td>40.715348</td>\n",
       "      <td>-73.960241</td>\n",
       "      <td>32588</td>\n",
       "      <td>Subscriber</td>\n",
       "      <td>1991</td>\n",
       "      <td>1</td>\n",
       "    </tr>\n",
       "    <tr>\n",
       "      <th>2</th>\n",
       "      <td>474</td>\n",
       "      <td>2020-02-01 00:00:15.7210</td>\n",
       "      <td>2020-02-01 00:08:10.3440</td>\n",
       "      <td>528</td>\n",
       "      <td>2 Ave &amp; E 31 St</td>\n",
       "      <td>40.742909</td>\n",
       "      <td>-73.977061</td>\n",
       "      <td>3785</td>\n",
       "      <td>W 42 St &amp; 6 Ave</td>\n",
       "      <td>40.754920</td>\n",
       "      <td>-73.984550</td>\n",
       "      <td>41013</td>\n",
       "      <td>Subscriber</td>\n",
       "      <td>1994</td>\n",
       "      <td>1</td>\n",
       "    </tr>\n",
       "    <tr>\n",
       "      <th>3</th>\n",
       "      <td>487</td>\n",
       "      <td>2020-02-01 00:00:21.0520</td>\n",
       "      <td>2020-02-01 00:08:28.7520</td>\n",
       "      <td>380</td>\n",
       "      <td>W 4 St &amp; 7 Ave S</td>\n",
       "      <td>40.734011</td>\n",
       "      <td>-74.002939</td>\n",
       "      <td>3263</td>\n",
       "      <td>Cooper Square &amp; Astor Pl</td>\n",
       "      <td>40.729515</td>\n",
       "      <td>-73.990753</td>\n",
       "      <td>27581</td>\n",
       "      <td>Subscriber</td>\n",
       "      <td>1973</td>\n",
       "      <td>2</td>\n",
       "    </tr>\n",
       "    <tr>\n",
       "      <th>4</th>\n",
       "      <td>619</td>\n",
       "      <td>2020-02-01 00:00:27.4000</td>\n",
       "      <td>2020-02-01 00:10:47.0640</td>\n",
       "      <td>472</td>\n",
       "      <td>E 32 St &amp; Park Ave</td>\n",
       "      <td>40.745712</td>\n",
       "      <td>-73.981948</td>\n",
       "      <td>237</td>\n",
       "      <td>E 11 St &amp; 2 Ave</td>\n",
       "      <td>40.730473</td>\n",
       "      <td>-73.986724</td>\n",
       "      <td>29062</td>\n",
       "      <td>Subscriber</td>\n",
       "      <td>1994</td>\n",
       "      <td>1</td>\n",
       "    </tr>\n",
       "  </tbody>\n",
       "</table>\n",
       "</div>"
      ],
      "text/plain": [
       "   tripduration                 starttime                  stoptime  \\\n",
       "0          1404  2020-02-01 00:00:05.9460  2020-02-01 00:23:30.7240   \n",
       "1          1301  2020-02-01 00:00:06.2230  2020-02-01 00:21:48.0580   \n",
       "2           474  2020-02-01 00:00:15.7210  2020-02-01 00:08:10.3440   \n",
       "3           487  2020-02-01 00:00:21.0520  2020-02-01 00:08:28.7520   \n",
       "4           619  2020-02-01 00:00:27.4000  2020-02-01 00:10:47.0640   \n",
       "\n",
       "   start station id      start station name  start station latitude  \\\n",
       "0               316  Fulton St & William St               40.709560   \n",
       "1               237         E 11 St & 2 Ave               40.730473   \n",
       "2               528         2 Ave & E 31 St               40.742909   \n",
       "3               380        W 4 St & 7 Ave S               40.734011   \n",
       "4               472      E 32 St & Park Ave               40.745712   \n",
       "\n",
       "   start station longitude  end station id                end station name  \\\n",
       "0               -74.006536             481            S 3 St & Bedford Ave   \n",
       "1               -73.986724             539  Metropolitan Ave & Bedford Ave   \n",
       "2               -73.977061            3785                 W 42 St & 6 Ave   \n",
       "3               -74.002939            3263        Cooper Square & Astor Pl   \n",
       "4               -73.981948             237                 E 11 St & 2 Ave   \n",
       "\n",
       "   end station latitude  end station longitude  bikeid    usertype  \\\n",
       "0             40.712605             -73.962644   28874    Customer   \n",
       "1             40.715348             -73.960241   32588  Subscriber   \n",
       "2             40.754920             -73.984550   41013  Subscriber   \n",
       "3             40.729515             -73.990753   27581  Subscriber   \n",
       "4             40.730473             -73.986724   29062  Subscriber   \n",
       "\n",
       "   birth year  gender  \n",
       "0        1995       1  \n",
       "1        1991       1  \n",
       "2        1994       1  \n",
       "3        1973       2  \n",
       "4        1994       1  "
      ]
     },
     "execution_count": 3,
     "metadata": {},
     "output_type": "execute_result"
    }
   ],
   "source": [
    "df.head()"
   ]
  },
  {
   "cell_type": "markdown",
   "id": "d4455d70",
   "metadata": {},
   "source": [
    "<b>some rows have extremely unlikely birth years"
   ]
  },
  {
   "cell_type": "code",
   "execution_count": 4,
   "id": "818263fc",
   "metadata": {},
   "outputs": [
    {
     "data": {
      "text/plain": [
       "1885       7\n",
       "1886      14\n",
       "1887      29\n",
       "1888      86\n",
       "1889      13\n",
       "        ... \n",
       "2000    7999\n",
       "2001    3455\n",
       "2002    1917\n",
       "2003    1108\n",
       "2004       9\n",
       "Name: birth year, Length: 98, dtype: int64"
      ]
     },
     "execution_count": 4,
     "metadata": {},
     "output_type": "execute_result"
    }
   ],
   "source": [
    "df['birth year'].value_counts().sort_index()"
   ]
  },
  {
   "cell_type": "markdown",
   "id": "e279d0f1",
   "metadata": {},
   "source": [
    "<b>removing rows with extremely unlikely birth years (riders above 100 years old)"
   ]
  },
  {
   "cell_type": "code",
   "execution_count": 5,
   "id": "57f84b4d",
   "metadata": {},
   "outputs": [
    {
     "data": {
      "text/plain": [
       "1921      21\n",
       "1923       3\n",
       "1924      37\n",
       "1927       1\n",
       "1929       8\n",
       "        ... \n",
       "2000    7999\n",
       "2001    3455\n",
       "2002    1917\n",
       "2003    1108\n",
       "2004       9\n",
       "Name: birth year, Length: 80, dtype: int64"
      ]
     },
     "execution_count": 5,
     "metadata": {},
     "output_type": "execute_result"
    }
   ],
   "source": [
    "df = df[df['birth year'] >= 1920]\n",
    "df['birth year'].value_counts().sort_index()"
   ]
  },
  {
   "cell_type": "markdown",
   "id": "c337b008",
   "metadata": {},
   "source": [
    "<b>changing gender values from integer to label (1 = Male, 2 = Female)</b><br>\n",
    "<i>*only choices provided by Citi Bike"
   ]
  },
  {
   "cell_type": "code",
   "execution_count": 6,
   "id": "8174a264",
   "metadata": {},
   "outputs": [
    {
     "data": {
      "text/html": [
       "<div>\n",
       "<style scoped>\n",
       "    .dataframe tbody tr th:only-of-type {\n",
       "        vertical-align: middle;\n",
       "    }\n",
       "\n",
       "    .dataframe tbody tr th {\n",
       "        vertical-align: top;\n",
       "    }\n",
       "\n",
       "    .dataframe thead th {\n",
       "        text-align: right;\n",
       "    }\n",
       "</style>\n",
       "<table border=\"1\" class=\"dataframe\">\n",
       "  <thead>\n",
       "    <tr style=\"text-align: right;\">\n",
       "      <th></th>\n",
       "      <th>tripduration</th>\n",
       "      <th>starttime</th>\n",
       "      <th>stoptime</th>\n",
       "      <th>start station id</th>\n",
       "      <th>start station name</th>\n",
       "      <th>start station latitude</th>\n",
       "      <th>start station longitude</th>\n",
       "      <th>end station id</th>\n",
       "      <th>end station name</th>\n",
       "      <th>end station latitude</th>\n",
       "      <th>end station longitude</th>\n",
       "      <th>bikeid</th>\n",
       "      <th>usertype</th>\n",
       "      <th>birth year</th>\n",
       "      <th>gender</th>\n",
       "    </tr>\n",
       "  </thead>\n",
       "  <tbody>\n",
       "    <tr>\n",
       "      <th>0</th>\n",
       "      <td>1404</td>\n",
       "      <td>2020-02-01 00:00:05.9460</td>\n",
       "      <td>2020-02-01 00:23:30.7240</td>\n",
       "      <td>316</td>\n",
       "      <td>Fulton St &amp; William St</td>\n",
       "      <td>40.709560</td>\n",
       "      <td>-74.006536</td>\n",
       "      <td>481</td>\n",
       "      <td>S 3 St &amp; Bedford Ave</td>\n",
       "      <td>40.712605</td>\n",
       "      <td>-73.962644</td>\n",
       "      <td>28874</td>\n",
       "      <td>Customer</td>\n",
       "      <td>1995</td>\n",
       "      <td>Male</td>\n",
       "    </tr>\n",
       "    <tr>\n",
       "      <th>1</th>\n",
       "      <td>1301</td>\n",
       "      <td>2020-02-01 00:00:06.2230</td>\n",
       "      <td>2020-02-01 00:21:48.0580</td>\n",
       "      <td>237</td>\n",
       "      <td>E 11 St &amp; 2 Ave</td>\n",
       "      <td>40.730473</td>\n",
       "      <td>-73.986724</td>\n",
       "      <td>539</td>\n",
       "      <td>Metropolitan Ave &amp; Bedford Ave</td>\n",
       "      <td>40.715348</td>\n",
       "      <td>-73.960241</td>\n",
       "      <td>32588</td>\n",
       "      <td>Subscriber</td>\n",
       "      <td>1991</td>\n",
       "      <td>Male</td>\n",
       "    </tr>\n",
       "    <tr>\n",
       "      <th>2</th>\n",
       "      <td>474</td>\n",
       "      <td>2020-02-01 00:00:15.7210</td>\n",
       "      <td>2020-02-01 00:08:10.3440</td>\n",
       "      <td>528</td>\n",
       "      <td>2 Ave &amp; E 31 St</td>\n",
       "      <td>40.742909</td>\n",
       "      <td>-73.977061</td>\n",
       "      <td>3785</td>\n",
       "      <td>W 42 St &amp; 6 Ave</td>\n",
       "      <td>40.754920</td>\n",
       "      <td>-73.984550</td>\n",
       "      <td>41013</td>\n",
       "      <td>Subscriber</td>\n",
       "      <td>1994</td>\n",
       "      <td>Male</td>\n",
       "    </tr>\n",
       "    <tr>\n",
       "      <th>3</th>\n",
       "      <td>487</td>\n",
       "      <td>2020-02-01 00:00:21.0520</td>\n",
       "      <td>2020-02-01 00:08:28.7520</td>\n",
       "      <td>380</td>\n",
       "      <td>W 4 St &amp; 7 Ave S</td>\n",
       "      <td>40.734011</td>\n",
       "      <td>-74.002939</td>\n",
       "      <td>3263</td>\n",
       "      <td>Cooper Square &amp; Astor Pl</td>\n",
       "      <td>40.729515</td>\n",
       "      <td>-73.990753</td>\n",
       "      <td>27581</td>\n",
       "      <td>Subscriber</td>\n",
       "      <td>1973</td>\n",
       "      <td>Female</td>\n",
       "    </tr>\n",
       "    <tr>\n",
       "      <th>4</th>\n",
       "      <td>619</td>\n",
       "      <td>2020-02-01 00:00:27.4000</td>\n",
       "      <td>2020-02-01 00:10:47.0640</td>\n",
       "      <td>472</td>\n",
       "      <td>E 32 St &amp; Park Ave</td>\n",
       "      <td>40.745712</td>\n",
       "      <td>-73.981948</td>\n",
       "      <td>237</td>\n",
       "      <td>E 11 St &amp; 2 Ave</td>\n",
       "      <td>40.730473</td>\n",
       "      <td>-73.986724</td>\n",
       "      <td>29062</td>\n",
       "      <td>Subscriber</td>\n",
       "      <td>1994</td>\n",
       "      <td>Male</td>\n",
       "    </tr>\n",
       "  </tbody>\n",
       "</table>\n",
       "</div>"
      ],
      "text/plain": [
       "   tripduration                 starttime                  stoptime  \\\n",
       "0          1404  2020-02-01 00:00:05.9460  2020-02-01 00:23:30.7240   \n",
       "1          1301  2020-02-01 00:00:06.2230  2020-02-01 00:21:48.0580   \n",
       "2           474  2020-02-01 00:00:15.7210  2020-02-01 00:08:10.3440   \n",
       "3           487  2020-02-01 00:00:21.0520  2020-02-01 00:08:28.7520   \n",
       "4           619  2020-02-01 00:00:27.4000  2020-02-01 00:10:47.0640   \n",
       "\n",
       "   start station id      start station name  start station latitude  \\\n",
       "0               316  Fulton St & William St               40.709560   \n",
       "1               237         E 11 St & 2 Ave               40.730473   \n",
       "2               528         2 Ave & E 31 St               40.742909   \n",
       "3               380        W 4 St & 7 Ave S               40.734011   \n",
       "4               472      E 32 St & Park Ave               40.745712   \n",
       "\n",
       "   start station longitude  end station id                end station name  \\\n",
       "0               -74.006536             481            S 3 St & Bedford Ave   \n",
       "1               -73.986724             539  Metropolitan Ave & Bedford Ave   \n",
       "2               -73.977061            3785                 W 42 St & 6 Ave   \n",
       "3               -74.002939            3263        Cooper Square & Astor Pl   \n",
       "4               -73.981948             237                 E 11 St & 2 Ave   \n",
       "\n",
       "   end station latitude  end station longitude  bikeid    usertype  \\\n",
       "0             40.712605             -73.962644   28874    Customer   \n",
       "1             40.715348             -73.960241   32588  Subscriber   \n",
       "2             40.754920             -73.984550   41013  Subscriber   \n",
       "3             40.729515             -73.990753   27581  Subscriber   \n",
       "4             40.730473             -73.986724   29062  Subscriber   \n",
       "\n",
       "   birth year  gender  \n",
       "0        1995    Male  \n",
       "1        1991    Male  \n",
       "2        1994    Male  \n",
       "3        1973  Female  \n",
       "4        1994    Male  "
      ]
     },
     "execution_count": 6,
     "metadata": {},
     "output_type": "execute_result"
    }
   ],
   "source": [
    "df.loc[df['gender'] == 1,'gender'] = 'Male'\n",
    "df.loc[df['gender'] == 2,'gender'] = 'Female'\n",
    "df.head()"
   ]
  },
  {
   "cell_type": "markdown",
   "id": "88c2571c",
   "metadata": {},
   "source": [
    "<b>some rows have rider's gender unknown (value 0)"
   ]
  },
  {
   "cell_type": "code",
   "execution_count": 7,
   "id": "57a1f800",
   "metadata": {},
   "outputs": [
    {
     "data": {
      "text/plain": [
       "Male      832803\n",
       "Female    257008\n",
       "0          56553\n",
       "Name: gender, dtype: int64"
      ]
     },
     "execution_count": 7,
     "metadata": {},
     "output_type": "execute_result"
    }
   ],
   "source": [
    "df['gender'].value_counts()"
   ]
  },
  {
   "cell_type": "markdown",
   "id": "ba1c98d2",
   "metadata": {},
   "source": [
    "<b>removing rows with unknown gender"
   ]
  },
  {
   "cell_type": "code",
   "execution_count": 8,
   "id": "07889857",
   "metadata": {},
   "outputs": [],
   "source": [
    "df = df[df['gender'] != 0]"
   ]
  },
  {
   "cell_type": "markdown",
   "id": "faef91e4",
   "metadata": {},
   "source": [
    "<b>converting trip durations from seconds to minutes"
   ]
  },
  {
   "cell_type": "code",
   "execution_count": 9,
   "id": "afc454f8",
   "metadata": {},
   "outputs": [
    {
     "data": {
      "text/html": [
       "<div>\n",
       "<style scoped>\n",
       "    .dataframe tbody tr th:only-of-type {\n",
       "        vertical-align: middle;\n",
       "    }\n",
       "\n",
       "    .dataframe tbody tr th {\n",
       "        vertical-align: top;\n",
       "    }\n",
       "\n",
       "    .dataframe thead th {\n",
       "        text-align: right;\n",
       "    }\n",
       "</style>\n",
       "<table border=\"1\" class=\"dataframe\">\n",
       "  <thead>\n",
       "    <tr style=\"text-align: right;\">\n",
       "      <th></th>\n",
       "      <th>tripduration</th>\n",
       "      <th>starttime</th>\n",
       "      <th>stoptime</th>\n",
       "      <th>start station id</th>\n",
       "      <th>start station name</th>\n",
       "      <th>start station latitude</th>\n",
       "      <th>start station longitude</th>\n",
       "      <th>end station id</th>\n",
       "      <th>end station name</th>\n",
       "      <th>end station latitude</th>\n",
       "      <th>end station longitude</th>\n",
       "      <th>bikeid</th>\n",
       "      <th>usertype</th>\n",
       "      <th>birth year</th>\n",
       "      <th>gender</th>\n",
       "    </tr>\n",
       "  </thead>\n",
       "  <tbody>\n",
       "    <tr>\n",
       "      <th>0</th>\n",
       "      <td>23</td>\n",
       "      <td>2020-02-01 00:00:05.9460</td>\n",
       "      <td>2020-02-01 00:23:30.7240</td>\n",
       "      <td>316</td>\n",
       "      <td>Fulton St &amp; William St</td>\n",
       "      <td>40.709560</td>\n",
       "      <td>-74.006536</td>\n",
       "      <td>481</td>\n",
       "      <td>S 3 St &amp; Bedford Ave</td>\n",
       "      <td>40.712605</td>\n",
       "      <td>-73.962644</td>\n",
       "      <td>28874</td>\n",
       "      <td>Customer</td>\n",
       "      <td>1995</td>\n",
       "      <td>Male</td>\n",
       "    </tr>\n",
       "    <tr>\n",
       "      <th>1</th>\n",
       "      <td>22</td>\n",
       "      <td>2020-02-01 00:00:06.2230</td>\n",
       "      <td>2020-02-01 00:21:48.0580</td>\n",
       "      <td>237</td>\n",
       "      <td>E 11 St &amp; 2 Ave</td>\n",
       "      <td>40.730473</td>\n",
       "      <td>-73.986724</td>\n",
       "      <td>539</td>\n",
       "      <td>Metropolitan Ave &amp; Bedford Ave</td>\n",
       "      <td>40.715348</td>\n",
       "      <td>-73.960241</td>\n",
       "      <td>32588</td>\n",
       "      <td>Subscriber</td>\n",
       "      <td>1991</td>\n",
       "      <td>Male</td>\n",
       "    </tr>\n",
       "    <tr>\n",
       "      <th>2</th>\n",
       "      <td>8</td>\n",
       "      <td>2020-02-01 00:00:15.7210</td>\n",
       "      <td>2020-02-01 00:08:10.3440</td>\n",
       "      <td>528</td>\n",
       "      <td>2 Ave &amp; E 31 St</td>\n",
       "      <td>40.742909</td>\n",
       "      <td>-73.977061</td>\n",
       "      <td>3785</td>\n",
       "      <td>W 42 St &amp; 6 Ave</td>\n",
       "      <td>40.754920</td>\n",
       "      <td>-73.984550</td>\n",
       "      <td>41013</td>\n",
       "      <td>Subscriber</td>\n",
       "      <td>1994</td>\n",
       "      <td>Male</td>\n",
       "    </tr>\n",
       "    <tr>\n",
       "      <th>3</th>\n",
       "      <td>8</td>\n",
       "      <td>2020-02-01 00:00:21.0520</td>\n",
       "      <td>2020-02-01 00:08:28.7520</td>\n",
       "      <td>380</td>\n",
       "      <td>W 4 St &amp; 7 Ave S</td>\n",
       "      <td>40.734011</td>\n",
       "      <td>-74.002939</td>\n",
       "      <td>3263</td>\n",
       "      <td>Cooper Square &amp; Astor Pl</td>\n",
       "      <td>40.729515</td>\n",
       "      <td>-73.990753</td>\n",
       "      <td>27581</td>\n",
       "      <td>Subscriber</td>\n",
       "      <td>1973</td>\n",
       "      <td>Female</td>\n",
       "    </tr>\n",
       "    <tr>\n",
       "      <th>4</th>\n",
       "      <td>10</td>\n",
       "      <td>2020-02-01 00:00:27.4000</td>\n",
       "      <td>2020-02-01 00:10:47.0640</td>\n",
       "      <td>472</td>\n",
       "      <td>E 32 St &amp; Park Ave</td>\n",
       "      <td>40.745712</td>\n",
       "      <td>-73.981948</td>\n",
       "      <td>237</td>\n",
       "      <td>E 11 St &amp; 2 Ave</td>\n",
       "      <td>40.730473</td>\n",
       "      <td>-73.986724</td>\n",
       "      <td>29062</td>\n",
       "      <td>Subscriber</td>\n",
       "      <td>1994</td>\n",
       "      <td>Male</td>\n",
       "    </tr>\n",
       "  </tbody>\n",
       "</table>\n",
       "</div>"
      ],
      "text/plain": [
       "   tripduration                 starttime                  stoptime  \\\n",
       "0            23  2020-02-01 00:00:05.9460  2020-02-01 00:23:30.7240   \n",
       "1            22  2020-02-01 00:00:06.2230  2020-02-01 00:21:48.0580   \n",
       "2             8  2020-02-01 00:00:15.7210  2020-02-01 00:08:10.3440   \n",
       "3             8  2020-02-01 00:00:21.0520  2020-02-01 00:08:28.7520   \n",
       "4            10  2020-02-01 00:00:27.4000  2020-02-01 00:10:47.0640   \n",
       "\n",
       "   start station id      start station name  start station latitude  \\\n",
       "0               316  Fulton St & William St               40.709560   \n",
       "1               237         E 11 St & 2 Ave               40.730473   \n",
       "2               528         2 Ave & E 31 St               40.742909   \n",
       "3               380        W 4 St & 7 Ave S               40.734011   \n",
       "4               472      E 32 St & Park Ave               40.745712   \n",
       "\n",
       "   start station longitude  end station id                end station name  \\\n",
       "0               -74.006536             481            S 3 St & Bedford Ave   \n",
       "1               -73.986724             539  Metropolitan Ave & Bedford Ave   \n",
       "2               -73.977061            3785                 W 42 St & 6 Ave   \n",
       "3               -74.002939            3263        Cooper Square & Astor Pl   \n",
       "4               -73.981948             237                 E 11 St & 2 Ave   \n",
       "\n",
       "   end station latitude  end station longitude  bikeid    usertype  \\\n",
       "0             40.712605             -73.962644   28874    Customer   \n",
       "1             40.715348             -73.960241   32588  Subscriber   \n",
       "2             40.754920             -73.984550   41013  Subscriber   \n",
       "3             40.729515             -73.990753   27581  Subscriber   \n",
       "4             40.730473             -73.986724   29062  Subscriber   \n",
       "\n",
       "   birth year  gender  \n",
       "0        1995    Male  \n",
       "1        1991    Male  \n",
       "2        1994    Male  \n",
       "3        1973  Female  \n",
       "4        1994    Male  "
      ]
     },
     "execution_count": 9,
     "metadata": {},
     "output_type": "execute_result"
    }
   ],
   "source": [
    "df['tripduration'] = df['tripduration']/60\n",
    "df['tripduration'] = df['tripduration'].round()\n",
    "df['tripduration'] = df['tripduration'].astype(int)\n",
    "df.head()"
   ]
  },
  {
   "cell_type": "markdown",
   "id": "01a2c98c",
   "metadata": {},
   "source": [
    "<b>some rows have extremely unlikely trip durations (up to 921 hours)"
   ]
  },
  {
   "cell_type": "code",
   "execution_count": 10,
   "id": "31a737c0",
   "metadata": {},
   "outputs": [
    {
     "data": {
      "text/plain": [
       "1         8319\n",
       "2        43213\n",
       "3        69860\n",
       "4        88359\n",
       "5        90042\n",
       "         ...  \n",
       "23008        1\n",
       "26753        1\n",
       "27676        1\n",
       "45108        1\n",
       "55310        1\n",
       "Name: tripduration, Length: 797, dtype: int64"
      ]
     },
     "execution_count": 10,
     "metadata": {},
     "output_type": "execute_result"
    }
   ],
   "source": [
    "df['tripduration'].value_counts().sort_index()"
   ]
  },
  {
   "cell_type": "code",
   "execution_count": 11,
   "id": "eae7fa1f",
   "metadata": {},
   "outputs": [
    {
     "data": {
      "text/plain": [
       "921.8333333333334"
      ]
     },
     "execution_count": 11,
     "metadata": {},
     "output_type": "execute_result"
    }
   ],
   "source": [
    "55310/60"
   ]
  },
  {
   "cell_type": "markdown",
   "id": "adf5a58c",
   "metadata": {},
   "source": [
    "<b>removing rows with trip durations above 24 hours"
   ]
  },
  {
   "cell_type": "code",
   "execution_count": 12,
   "id": "19b93900",
   "metadata": {},
   "outputs": [],
   "source": [
    "df = df[df['tripduration'] <= 60*24]"
   ]
  },
  {
   "cell_type": "markdown",
   "id": "d5a5b850",
   "metadata": {},
   "source": [
    "<b>extreme outliers even when trips longer than 24 hours removed "
   ]
  },
  {
   "cell_type": "code",
   "execution_count": 13,
   "id": "5b5fbb05",
   "metadata": {},
   "outputs": [
    {
     "data": {
      "image/png": "[encoded data removed]",
      "text/plain": [
       "<Figure size 640x480 with 1 Axes>"
      ]
     },
     "metadata": {},
     "output_type": "display_data"
    }
   ],
   "source": [
    "df['tripduration'].plot.box()\n",
    "plt.show()"
   ]
  },
  {
   "cell_type": "markdown",
   "id": "da4b2970",
   "metadata": {},
   "source": [
    "<b>removing rows with trip durations above 2 hours</b><br>\n",
    "<i>*roughly the time it takes to bike between the two furthest apart Citi Bike stations"
   ]
  },
  {
   "cell_type": "code",
   "execution_count": 14,
   "id": "7979672b",
   "metadata": {},
   "outputs": [],
   "source": [
    "df = df[df['tripduration'] <= 60*2]"
   ]
  },
  {
   "cell_type": "markdown",
   "id": "daa12474",
   "metadata": {},
   "source": [
    "<b>still some outliers but more reasonable"
   ]
  },
  {
   "cell_type": "code",
   "execution_count": 15,
   "id": "d1aae1ca",
   "metadata": {},
   "outputs": [
    {
     "data": {
      "image/png": "[encoded data removed]",
      "text/plain": [
       "<Figure size 640x480 with 1 Axes>"
      ]
     },
     "metadata": {},
     "output_type": "display_data"
    }
   ],
   "source": [
    "df['tripduration'].plot.box()\n",
    "plt.show()"
   ]
  },
  {
   "cell_type": "markdown",
   "id": "774572cc",
   "metadata": {},
   "source": [
    "<b>strange error, some stations have single record with station coordinates slightly off and lower precision</b><br>\n",
    "<i>*this can throw off mapping the stations later on"
   ]
  },
  {
   "cell_type": "code",
   "execution_count": 16,
   "id": "bd64ba19",
   "metadata": {},
   "outputs": [
    {
     "data": {
      "text/plain": [
       "40.771639    2387\n",
       "40.773000       1\n",
       "Name: start station latitude, dtype: int64"
      ]
     },
     "execution_count": 16,
     "metadata": {},
     "output_type": "execute_result"
    }
   ],
   "source": [
    "df[df['start station name'] == 'W 63 St & Broadway']['start station latitude'].value_counts()"
   ]
  },
  {
   "cell_type": "code",
   "execution_count": 17,
   "id": "df84a3f4",
   "metadata": {},
   "outputs": [
    {
     "data": {
      "text/plain": [
       "40.766638    2015\n",
       "40.767000       1\n",
       "Name: start station latitude, dtype: int64"
      ]
     },
     "execution_count": 17,
     "metadata": {},
     "output_type": "execute_result"
    }
   ],
   "source": [
    "df[df['start station name'] == 'E 72 St & York Ave']['start station latitude'].value_counts()"
   ]
  },
  {
   "cell_type": "code",
   "execution_count": 18,
   "id": "6a3608b0",
   "metadata": {},
   "outputs": [
    {
     "data": {
      "text/plain": [
       "40.73332    2365\n",
       "40.73400       1\n",
       "Name: start station latitude, dtype: int64"
      ]
     },
     "execution_count": 18,
     "metadata": {},
     "output_type": "execute_result"
    }
   ],
   "source": [
    "df[df['start station name'] == 'E 10 St & 5 Ave']['start station latitude'].value_counts()"
   ]
  },
  {
   "cell_type": "markdown",
   "id": "a90009b8",
   "metadata": {},
   "source": [
    "<b> fixing off records to show correct station coordinates"
   ]
  },
  {
   "cell_type": "code",
   "execution_count": 19,
   "id": "ae1158a8",
   "metadata": {},
   "outputs": [],
   "source": [
    "for station in df['start station name'].unique():\n",
    "    \n",
    "    median_lat = df[df['start station name'] == station]['start station latitude'].median()\n",
    "    median_lon = df[df['start station name'] == station]['start station longitude'].median()\n",
    "    \n",
    "    df.loc[df['start station name'] == station, 'start station latitude'] = median_lat\n",
    "    df.loc[df['start station name'] == station, 'start station longitude'] = median_lon"
   ]
  },
  {
   "cell_type": "markdown",
   "id": "b77f2f4b",
   "metadata": {},
   "source": [
    "<b>creating new distance feature by measuring between start & end station coordinates for each ride</b><br>\n",
    "<i>*straight line distance, underestimates actual travel distance, but still useful"
   ]
  },
  {
   "cell_type": "code",
   "execution_count": 20,
   "id": "7b11c3a7",
   "metadata": {},
   "outputs": [
    {
     "data": {
      "text/html": [
       "<div>\n",
       "<style scoped>\n",
       "    .dataframe tbody tr th:only-of-type {\n",
       "        vertical-align: middle;\n",
       "    }\n",
       "\n",
       "    .dataframe tbody tr th {\n",
       "        vertical-align: top;\n",
       "    }\n",
       "\n",
       "    .dataframe thead th {\n",
       "        text-align: right;\n",
       "    }\n",
       "</style>\n",
       "<table border=\"1\" class=\"dataframe\">\n",
       "  <thead>\n",
       "    <tr style=\"text-align: right;\">\n",
       "      <th></th>\n",
       "      <th>tripduration</th>\n",
       "      <th>starttime</th>\n",
       "      <th>stoptime</th>\n",
       "      <th>start station id</th>\n",
       "      <th>start station name</th>\n",
       "      <th>start station latitude</th>\n",
       "      <th>start station longitude</th>\n",
       "      <th>end station id</th>\n",
       "      <th>end station name</th>\n",
       "      <th>end station latitude</th>\n",
       "      <th>end station longitude</th>\n",
       "      <th>bikeid</th>\n",
       "      <th>usertype</th>\n",
       "      <th>birth year</th>\n",
       "      <th>gender</th>\n",
       "      <th>start cords</th>\n",
       "      <th>end cords</th>\n",
       "      <th>distance</th>\n",
       "    </tr>\n",
       "  </thead>\n",
       "  <tbody>\n",
       "    <tr>\n",
       "      <th>0</th>\n",
       "      <td>23</td>\n",
       "      <td>2020-02-01 00:00:05.9460</td>\n",
       "      <td>2020-02-01 00:23:30.7240</td>\n",
       "      <td>316</td>\n",
       "      <td>Fulton St &amp; William St</td>\n",
       "      <td>40.709560</td>\n",
       "      <td>-74.006536</td>\n",
       "      <td>481</td>\n",
       "      <td>S 3 St &amp; Bedford Ave</td>\n",
       "      <td>40.712605</td>\n",
       "      <td>-73.962644</td>\n",
       "      <td>28874</td>\n",
       "      <td>Customer</td>\n",
       "      <td>1995</td>\n",
       "      <td>Male</td>\n",
       "      <td>(40.70955958, -74.00653609)</td>\n",
       "      <td>(40.71260486, -73.96264403)</td>\n",
       "      <td>2.31</td>\n",
       "    </tr>\n",
       "    <tr>\n",
       "      <th>1</th>\n",
       "      <td>22</td>\n",
       "      <td>2020-02-01 00:00:06.2230</td>\n",
       "      <td>2020-02-01 00:21:48.0580</td>\n",
       "      <td>237</td>\n",
       "      <td>E 11 St &amp; 2 Ave</td>\n",
       "      <td>40.730473</td>\n",
       "      <td>-73.986724</td>\n",
       "      <td>539</td>\n",
       "      <td>Metropolitan Ave &amp; Bedford Ave</td>\n",
       "      <td>40.715348</td>\n",
       "      <td>-73.960241</td>\n",
       "      <td>32588</td>\n",
       "      <td>Subscriber</td>\n",
       "      <td>1991</td>\n",
       "      <td>Male</td>\n",
       "      <td>(40.73047309, -73.98672378)</td>\n",
       "      <td>(40.71534825, -73.96024116)</td>\n",
       "      <td>1.74</td>\n",
       "    </tr>\n",
       "    <tr>\n",
       "      <th>2</th>\n",
       "      <td>8</td>\n",
       "      <td>2020-02-01 00:00:15.7210</td>\n",
       "      <td>2020-02-01 00:08:10.3440</td>\n",
       "      <td>528</td>\n",
       "      <td>2 Ave &amp; E 31 St</td>\n",
       "      <td>40.742909</td>\n",
       "      <td>-73.977061</td>\n",
       "      <td>3785</td>\n",
       "      <td>W 42 St &amp; 6 Ave</td>\n",
       "      <td>40.754920</td>\n",
       "      <td>-73.984550</td>\n",
       "      <td>41013</td>\n",
       "      <td>Subscriber</td>\n",
       "      <td>1994</td>\n",
       "      <td>Male</td>\n",
       "      <td>(40.74290902, -73.97706058)</td>\n",
       "      <td>(40.75492, -73.98455)</td>\n",
       "      <td>0.92</td>\n",
       "    </tr>\n",
       "    <tr>\n",
       "      <th>3</th>\n",
       "      <td>8</td>\n",
       "      <td>2020-02-01 00:00:21.0520</td>\n",
       "      <td>2020-02-01 00:08:28.7520</td>\n",
       "      <td>380</td>\n",
       "      <td>W 4 St &amp; 7 Ave S</td>\n",
       "      <td>40.734011</td>\n",
       "      <td>-74.002939</td>\n",
       "      <td>3263</td>\n",
       "      <td>Cooper Square &amp; Astor Pl</td>\n",
       "      <td>40.729515</td>\n",
       "      <td>-73.990753</td>\n",
       "      <td>27581</td>\n",
       "      <td>Subscriber</td>\n",
       "      <td>1973</td>\n",
       "      <td>Female</td>\n",
       "      <td>(40.73401143, -74.00293877)</td>\n",
       "      <td>(40.72951496224949, -73.99075269699097)</td>\n",
       "      <td>0.71</td>\n",
       "    </tr>\n",
       "    <tr>\n",
       "      <th>4</th>\n",
       "      <td>10</td>\n",
       "      <td>2020-02-01 00:00:27.4000</td>\n",
       "      <td>2020-02-01 00:10:47.0640</td>\n",
       "      <td>472</td>\n",
       "      <td>E 32 St &amp; Park Ave</td>\n",
       "      <td>40.745712</td>\n",
       "      <td>-73.981948</td>\n",
       "      <td>237</td>\n",
       "      <td>E 11 St &amp; 2 Ave</td>\n",
       "      <td>40.730473</td>\n",
       "      <td>-73.986724</td>\n",
       "      <td>29062</td>\n",
       "      <td>Subscriber</td>\n",
       "      <td>1994</td>\n",
       "      <td>Male</td>\n",
       "      <td>(40.7457121, -73.98194829)</td>\n",
       "      <td>(40.73047309, -73.98672378)</td>\n",
       "      <td>1.08</td>\n",
       "    </tr>\n",
       "  </tbody>\n",
       "</table>\n",
       "</div>"
      ],
      "text/plain": [
       "   tripduration                 starttime                  stoptime  \\\n",
       "0            23  2020-02-01 00:00:05.9460  2020-02-01 00:23:30.7240   \n",
       "1            22  2020-02-01 00:00:06.2230  2020-02-01 00:21:48.0580   \n",
       "2             8  2020-02-01 00:00:15.7210  2020-02-01 00:08:10.3440   \n",
       "3             8  2020-02-01 00:00:21.0520  2020-02-01 00:08:28.7520   \n",
       "4            10  2020-02-01 00:00:27.4000  2020-02-01 00:10:47.0640   \n",
       "\n",
       "   start station id      start station name  start station latitude  \\\n",
       "0               316  Fulton St & William St               40.709560   \n",
       "1               237         E 11 St & 2 Ave               40.730473   \n",
       "2               528         2 Ave & E 31 St               40.742909   \n",
       "3               380        W 4 St & 7 Ave S               40.734011   \n",
       "4               472      E 32 St & Park Ave               40.745712   \n",
       "\n",
       "   start station longitude  end station id                end station name  \\\n",
       "0               -74.006536             481            S 3 St & Bedford Ave   \n",
       "1               -73.986724             539  Metropolitan Ave & Bedford Ave   \n",
       "2               -73.977061            3785                 W 42 St & 6 Ave   \n",
       "3               -74.002939            3263        Cooper Square & Astor Pl   \n",
       "4               -73.981948             237                 E 11 St & 2 Ave   \n",
       "\n",
       "   end station latitude  end station longitude  bikeid    usertype  \\\n",
       "0             40.712605             -73.962644   28874    Customer   \n",
       "1             40.715348             -73.960241   32588  Subscriber   \n",
       "2             40.754920             -73.984550   41013  Subscriber   \n",
       "3             40.729515             -73.990753   27581  Subscriber   \n",
       "4             40.730473             -73.986724   29062  Subscriber   \n",
       "\n",
       "   birth year  gender                  start cords  \\\n",
       "0        1995    Male  (40.70955958, -74.00653609)   \n",
       "1        1991    Male  (40.73047309, -73.98672378)   \n",
       "2        1994    Male  (40.74290902, -73.97706058)   \n",
       "3        1973  Female  (40.73401143, -74.00293877)   \n",
       "4        1994    Male   (40.7457121, -73.98194829)   \n",
       "\n",
       "                                 end cords  distance  \n",
       "0              (40.71260486, -73.96264403)      2.31  \n",
       "1              (40.71534825, -73.96024116)      1.74  \n",
       "2                    (40.75492, -73.98455)      0.92  \n",
       "3  (40.72951496224949, -73.99075269699097)      0.71  \n",
       "4              (40.73047309, -73.98672378)      1.08  "
      ]
     },
     "execution_count": 20,
     "metadata": {},
     "output_type": "execute_result"
    }
   ],
   "source": [
    "df['start cords'] = list(zip(df['start station latitude'], df['start station longitude']))\n",
    "df['end cords'] = list(zip(df['end station latitude'], df['end station longitude']))\n",
    "df['distance'] = df.apply(lambda row: distance.distance(row['start cords'], row['end cords']).miles, axis=1)\n",
    "df['distance'] = df['distance'].round(2)\n",
    "df.head()"
   ]
  },
  {
   "cell_type": "markdown",
   "id": "55d69300",
   "metadata": {},
   "source": [
    "<b>some rows have trip distances of 0</b><br>\n",
    "<i>*meaning ride started and ended at same station"
   ]
  },
  {
   "cell_type": "code",
   "execution_count": 21,
   "id": "417b2478",
   "metadata": {},
   "outputs": [
    {
     "data": {
      "text/plain": [
       "0.00    15699\n",
       "0.02      102\n",
       "0.05      224\n",
       "0.06      126\n",
       "0.07      260\n",
       "        ...  \n",
       "8.33        1\n",
       "8.47        2\n",
       "8.58        1\n",
       "8.61        1\n",
       "8.74        1\n",
       "Name: distance, Length: 741, dtype: int64"
      ]
     },
     "execution_count": 21,
     "metadata": {},
     "output_type": "execute_result"
    }
   ],
   "source": [
    "df['distance'].value_counts().sort_index()"
   ]
  },
  {
   "cell_type": "markdown",
   "id": "3fe345c8",
   "metadata": {},
   "source": [
    "<b>removing rows with 0 distance trips</b><br>\n",
    "<i>*interesting but <1% of trips & out of scope for this project"
   ]
  },
  {
   "cell_type": "code",
   "execution_count": 22,
   "id": "c53c77e0",
   "metadata": {},
   "outputs": [],
   "source": [
    "df = df[df['distance'] != 0]\n",
    "df = df.reset_index(drop=True)"
   ]
  },
  {
   "cell_type": "markdown",
   "id": "ce7d273c",
   "metadata": {},
   "source": [
    "<b>outputting prepared dataset to CSV"
   ]
  },
  {
   "cell_type": "code",
   "execution_count": 23,
   "id": "9d6b6467",
   "metadata": {},
   "outputs": [],
   "source": [
    "#df.to_csv('data/feb_2020_prepared.csv')"
   ]
  },
  {
   "cell_type": "code",
   "execution_count": 24,
   "id": "ae33a2eb",
   "metadata": {},
   "outputs": [
    {
     "data": {
      "text/plain": [
       "Subscriber    1022295\n",
       "Customer        50537\n",
       "Name: usertype, dtype: int64"
      ]
     },
     "execution_count": 24,
     "metadata": {},
     "output_type": "execute_result"
    }
   ],
   "source": [
    "df['usertype'].value_counts()"
   ]
  }
 ],
 "metadata": {
  "kernelspec": {
   "display_name": "Python 3 (ipykernel)",
   "language": "python",
   "name": "python3"
  },
  "language_info": {
   "codemirror_mode": {
    "name": "ipython",
    "version": 3
   },
   "file_extension": ".py",
   "mimetype": "text/x-python",
   "name": "python",
   "nbconvert_exporter": "python",
   "pygments_lexer": "ipython3",
   "version": "3.10.6"
  },
  "toc": {
   "base_numbering": 1,
   "nav_menu": {},
   "number_sections": true,
   "sideBar": true,
   "skip_h1_title": false,
   "title_cell": "Table of Contents",
   "title_sidebar": "Contents",
   "toc_cell": false,
   "toc_position": {},
   "toc_section_display": true,
   "toc_window_display": false
  }
 },
 "nbformat": 4,
 "nbformat_minor": 5
}
